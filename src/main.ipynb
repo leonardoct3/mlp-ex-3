{
 "cells": [
  {
   "cell_type": "markdown",
   "id": "51adfa7e",
   "metadata": {},
   "source": [
    "# Exercise 3 - MLP (Multi-Layer Perceptron)\n",
    "*Author: Leonardo Teixeira*"
   ]
  },
  {
   "cell_type": "code",
   "execution_count": 3,
   "id": "e228346d",
   "metadata": {},
   "outputs": [],
   "source": [
    "import numpy as np"
   ]
  },
  {
   "cell_type": "markdown",
   "id": "088a6ab6",
   "metadata": {},
   "source": [
    "## 1) Manual Calculation of MLP Steps"
   ]
  },
  {
   "cell_type": "code",
   "execution_count": 5,
   "id": "7a74e1f3",
   "metadata": {},
   "outputs": [],
   "source": [
    "x = np.array([0.5, -0.2])\n",
    "y_true = 1\n",
    "\n",
    "W1 = np.array([[0.3, -0.1], \n",
    "               [0.2, 0.4]])\n",
    "b1 = [0.1, -0.2]\n",
    "\n",
    "W2 = np.array([0.5, -0.3])\n",
    "b2 = 0.2\n",
    "\n",
    "learning_rate = 0.3\n",
    "\n",
    "def tanh(z):\n",
    "    return np.tanh(z)\n",
    "\n",
    "def tanh_derivative(z):\n",
    "    return 1 - np.tanh(z)**2"
   ]
  },
  {
   "cell_type": "code",
   "execution_count": 6,
   "id": "ce15b7d7",
   "metadata": {},
   "outputs": [
    {
     "name": "stdout",
     "output_type": "stream",
     "text": [
      "z1 (hidden layers pre-activation): [ 0.27 -0.18]\n",
      "a (hidden layer activation): [ 0.26362484 -0.17808087]\n",
      "z2 (output layer pre-activation): 0.38523667817130075\n",
      "y_pred (final output): 0.36724656264510797\n"
     ]
    }
   ],
   "source": [
    "# 1. Compute the hidden layers pre-activation\n",
    "# Produto linear\n",
    "z1 = np.dot(W1, x) + b1\n",
    "\n",
    "# 2. Hidden layer activation\n",
    "a = tanh(z1)\n",
    "\n",
    "# 3. Output layer pre-activation\n",
    "z2 = np.dot(W2, a) + b2\n",
    "\n",
    "# 4. Final Output\n",
    "y_pred = tanh(z2)\n",
    "\n",
    "print(\"z1 (hidden layers pre-activation):\", z1)\n",
    "print(\"a (hidden layer activation):\", a)\n",
    "print(\"z2 (output layer pre-activation):\", z2)\n",
    "print(\"y_pred (final output):\", y_pred)\n"
   ]
  },
  {
   "cell_type": "code",
   "execution_count": null,
   "id": "18259da7",
   "metadata": {},
   "outputs": [],
   "source": []
  }
 ],
 "metadata": {
  "kernelspec": {
   "display_name": ".venv",
   "language": "python",
   "name": "python3"
  },
  "language_info": {
   "codemirror_mode": {
    "name": "ipython",
    "version": 3
   },
   "file_extension": ".py",
   "mimetype": "text/x-python",
   "name": "python",
   "nbconvert_exporter": "python",
   "pygments_lexer": "ipython3",
   "version": "3.12.2"
  }
 },
 "nbformat": 4,
 "nbformat_minor": 5
}
